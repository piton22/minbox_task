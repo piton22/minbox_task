{
 "cells": [
  {
   "cell_type": "markdown",
   "id": "8fd64005",
   "metadata": {},
   "source": [
    "# Тестовое задание Mindbox"
   ]
  },
  {
   "cell_type": "markdown",
   "id": "7bf4a919",
   "metadata": {},
   "source": [
    "Нашей компании нужно сгруппировать клиентов для АБ-тестов. Алгоритм группировки очень простой - взять ID клиента (состоит из 5-7 цифр, например 7412567) и найти сумму всех его цифр. Получившееся число и является номером группы, в которую входит данный клиент.\n",
    "\n",
    "Для того, чтобы понять, насколько хорош такой простой алгоритм, тебе нужно написать следующие диагностические функции:\n",
    "\n",
    "1. Функция, которая подсчитывает число покупателей, попадающих в каждую группу, если нумерация ID сквозная и начинается с 0. На вход функция получает целое число n_customers (количество клиентов).\n",
    "\n",
    "2. Функция, аналогичная первой, если ID начинается с произвольного числа. На вход функция получает целые числа: n_customers (количество клиентов) и n_first_id (первый ID в последовательности).\n",
    "\n",
    "Напишите код функций на Python и оформите его в репозиторий Github. В форму ответа вставьте ссылку на репозиторий, убедитесь, что он публичный. \n",
    "\n",
    "Дополнительно к работоспособности оценим:\n",
    "\n",
    "читабельность и аккуратность кода;\n",
    "производительность кода."
   ]
  },
  {
   "cell_type": "markdown",
   "id": "9012b73f",
   "metadata": {},
   "source": [
    "## Функция 1"
   ]
  },
  {
   "cell_type": "markdown",
   "id": "db502432",
   "metadata": {},
   "source": [
    "Для подсчета числа пользователей отлично подойдет счетчик, импортируем его."
   ]
  },
  {
   "cell_type": "code",
   "execution_count": 1,
   "id": "68ba02f7",
   "metadata": {},
   "outputs": [],
   "source": [
    "from collections import Counter"
   ]
  },
  {
   "cell_type": "code",
   "execution_count": 2,
   "id": "d48c34f1",
   "metadata": {},
   "outputs": [],
   "source": [
    "def id_from_0(n_customers):\n",
    "    cnt = Counter()\n",
    "    for i in range(0,n_customers,1):\n",
    "        group = sum(map(int,str(i)))\n",
    "        cnt[group] += 1\n",
    "    display(cnt)"
   ]
  },
  {
   "cell_type": "code",
   "execution_count": 3,
   "id": "45eb5048",
   "metadata": {
    "scrolled": true
   },
   "outputs": [
    {
     "data": {
      "text/plain": [
       "Counter({0: 1,\n",
       "         1: 2,\n",
       "         2: 3,\n",
       "         3: 4,\n",
       "         4: 5,\n",
       "         5: 6,\n",
       "         6: 7,\n",
       "         7: 8,\n",
       "         8: 9,\n",
       "         9: 10,\n",
       "         10: 9,\n",
       "         11: 8,\n",
       "         12: 7,\n",
       "         13: 6,\n",
       "         14: 5,\n",
       "         15: 4,\n",
       "         16: 3,\n",
       "         17: 2,\n",
       "         18: 1})"
      ]
     },
     "metadata": {},
     "output_type": "display_data"
    }
   ],
   "source": [
    "id_from_0(100)"
   ]
  },
  {
   "cell_type": "markdown",
   "id": "5c6e9e07",
   "metadata": {},
   "source": [
    "## Функция 2"
   ]
  },
  {
   "cell_type": "code",
   "execution_count": 4,
   "id": "134d3a3f",
   "metadata": {},
   "outputs": [],
   "source": [
    "def id_from_any(n_first_id, n_customers):\n",
    "    from collections import Counter\n",
    "    cnt = Counter()\n",
    "    for i in range(n_first_id, n_first_id+n_customers,1):\n",
    "        group = sum(map(int,str(i)))\n",
    "        cnt[group] += 1\n",
    "    display(cnt)"
   ]
  },
  {
   "cell_type": "code",
   "execution_count": 5,
   "id": "04a880d5",
   "metadata": {
    "scrolled": true
   },
   "outputs": [
    {
     "data": {
      "text/plain": [
       "Counter({6: 8,\n",
       "         7: 8,\n",
       "         8: 9,\n",
       "         9: 10,\n",
       "         10: 10,\n",
       "         11: 9,\n",
       "         12: 8,\n",
       "         4: 5,\n",
       "         5: 6,\n",
       "         13: 6,\n",
       "         14: 5,\n",
       "         15: 4,\n",
       "         16: 3,\n",
       "         17: 2,\n",
       "         18: 1,\n",
       "         1: 1,\n",
       "         2: 2,\n",
       "         3: 3})"
      ]
     },
     "metadata": {},
     "output_type": "display_data"
    }
   ],
   "source": [
    "id_from_any(33, 100)"
   ]
  },
  {
   "cell_type": "code",
   "execution_count": null,
   "id": "e052eaad",
   "metadata": {},
   "outputs": [],
   "source": []
  }
 ],
 "metadata": {
  "kernelspec": {
   "display_name": "Python 3 (ipykernel)",
   "language": "python",
   "name": "python3"
  },
  "language_info": {
   "codemirror_mode": {
    "name": "ipython",
    "version": 3
   },
   "file_extension": ".py",
   "mimetype": "text/x-python",
   "name": "python",
   "nbconvert_exporter": "python",
   "pygments_lexer": "ipython3",
   "version": "3.9.12"
  },
  "toc": {
   "base_numbering": 1,
   "nav_menu": {},
   "number_sections": true,
   "sideBar": true,
   "skip_h1_title": false,
   "title_cell": "Table of Contents",
   "title_sidebar": "Contents",
   "toc_cell": true,
   "toc_position": {},
   "toc_section_display": true,
   "toc_window_display": false
  }
 },
 "nbformat": 4,
 "nbformat_minor": 5
}
